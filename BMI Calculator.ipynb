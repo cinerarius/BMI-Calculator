{
 "cells": [
  {
   "cell_type": "code",
   "execution_count": 27,
   "id": "d4971e1e-6ed8-4034-81fc-d442d5ebf7b3",
   "metadata": {},
   "outputs": [
    {
     "name": "stdin",
     "output_type": "stream",
     "text": [
      "Enter your weight in pounds:  170\n",
      "Enter your height:\n",
      "Foot:  5\n",
      "Inches:  8\n"
     ]
    },
    {
     "name": "stdout",
     "output_type": "stream",
     "text": [
      "Your weight is 170 pounds with a height of 5 foot and 8 inches.\n",
      "BMI: 25.85\n",
      "Classification: Overweight\n",
      "Health Risk: Increased\n"
     ]
    }
   ],
   "source": [
    "weight = int(input(\"Enter your weight in pounds: \"))\n",
    "heightInFoot = int(input(\"Enter your height:\\nFoot: \"))\n",
    "heightInInches =  int(input(\"Inches: \"))\n",
    "result = 'Your weight is {} pounds with a height of {} foot and {} inches.'\n",
    "print(result.format(weight, heightInFoot, heightInInches))\n",
    "totalHeight = int((heightInFoot * 12) + heightInInches)\n",
    "BMI = (weight * 703) / (totalHeight * totalHeight)\n",
    "BmiResult = 'BMI: {:.2f}'\n",
    "print(BmiResult.format(BMI))\n",
    "if BMI < 18.5:\n",
    "    print(\"Classification: Underweight\\nHealth Risk: Minimal\")\n",
    "elif BMI < 24.9:\n",
    "    print(\"Classification: Normal Weight\\nHealth Risk: Minimal\")\n",
    "elif BMI < 29.9:\n",
    "    print(\"Classification: Overweight\\nHealth Risk: Increased\")\n",
    "elif BMI < 34.9:\n",
    "    print(\"Classification: Obese\\nHealth Risk: High\")\n",
    "elif BMI < 39.9:\n",
    "    print(\"Classification: Severely Obese\\nHealth Risk: Very High\")\n",
    "else:\n",
    "    print(\"Classification: Morbidely Obese\\nHealth Risk: Extremely High\")"
   ]
  }
 ],
 "metadata": {
  "kernelspec": {
   "display_name": "Python 3 (ipykernel)",
   "language": "python",
   "name": "python3"
  },
  "language_info": {
   "codemirror_mode": {
    "name": "ipython",
    "version": 3
   },
   "file_extension": ".py",
   "mimetype": "text/x-python",
   "name": "python",
   "nbconvert_exporter": "python",
   "pygments_lexer": "ipython3",
   "version": "3.12.2"
  }
 },
 "nbformat": 4,
 "nbformat_minor": 5
}
